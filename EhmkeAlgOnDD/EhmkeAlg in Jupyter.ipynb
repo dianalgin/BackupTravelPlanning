{
 "cells": [
  {
   "cell_type": "markdown",
   "metadata": {},
   "source": [
    "So I tried to do emkhes algorithm on 4 nodes"
   ]
  },
  {
   "cell_type": "code",
   "execution_count": null,
   "metadata": {},
   "outputs": [],
   "source": [
    "from datetime import datetime, timedelta\n",
    "import pandas as pd\n",
    "import numpy as np\n",
    "import math\n",
    "import copy"
   ]
  },
  {
   "cell_type": "markdown",
   "metadata": {},
   "source": [
    "Import data"
   ]
  },
  {
   "cell_type": "code",
   "execution_count": null,
   "metadata": {},
   "outputs": [],
   "source": [
    "def import_data():\n",
    "    #locate it to my dummy data\n",
    "    gtfs_dir = 'C:/Users/Diana Lutska/DAP/gtfs_dummy_data/'\n",
    "\n",
    "    # load data\n",
    "    agency_df = pd.read_csv(gtfs_dir + 'agency.txt')\n",
    "    stops_df = pd.read_csv(gtfs_dir + 'stops.txt')\n",
    "    routes_df = pd.read_csv(gtfs_dir + 'routes.txt')\n",
    "    trips_df = pd.read_csv(gtfs_dir + 'trips.txt')\n",
    "    stop_times_df = pd.read_csv(gtfs_dir + 'stop_times.txt')\n",
    "    calendar_df = pd.read_csv(gtfs_dir + 'calendar.txt')\n",
    "\n",
    "    return agency_df, stops_df, routes_df, trips_df, stop_times_df, calendar_df\n",
    "\n",
    "agency_df, stops_df, routes_df, trips_df, stop_times_df, calendar_df = import_data()"
   ]
  },
  {
   "cell_type": "markdown",
   "metadata": {},
   "source": [
    "Creating legs"
   ]
  },
  {
   "cell_type": "code",
   "execution_count": null,
   "metadata": {},
   "outputs": [
    {
     "data": {
      "text/plain": [
       "    trip_id arrival_time  ... stop_sequence  arrival_stop_id\n",
       "0        11     06:03:00  ...             1              2.0\n",
       "1        11     06:05:00  ...             2              1.0\n",
       "2        12     06:08:00  ...             1              2.0\n",
       "3        12     06:03:00  ...             2              2.0\n",
       "4        21     06:08:00  ...             1              4.0\n",
       "5        21     06:08:00  ...             2              2.0\n",
       "6        22     06:13:00  ...             1              4.0\n",
       "7        22     06:00:00  ...             2              1.0\n",
       "8        31     06:04:00  ...             1              3.0\n",
       "9        31     06:04:00  ...             2              1.0\n",
       "10       32     06:07:00  ...             1              3.0\n",
       "11       32     06:04:00  ...             2              3.0\n",
       "12       41     06:10:00  ...             1              4.0\n",
       "13       41     06:05:00  ...             2              3.0\n",
       "14       42     06:11:00  ...             1              4.0\n",
       "15       42         None  ...             2              NaN\n",
       "\n",
       "[16 rows x 6 columns]\n"
      ]
     },
     "metadata": {},
     "output_type": "display_data"
    }
   ],
   "source": [
    "# Sort by trip_id and stop_sequence to ensure legs are in order\n",
    "legcreation_df = stop_times_df.sort_values(['trip_id', 'stop_sequence']).reset_index(drop=True)\n",
    "\n",
    "\n",
    "#Shift the columns to get the arrival stop and time for each departure stop and time\n",
    "legcreation_df['arrival_stop_id'] = legcreation_df['stop_id'].shift(-1)\n",
    "legcreation_df['arrival_time'] = legcreation_df['arrival_time'].shift(-1)\n",
    "\n",
    "print(legcreation_df)"
   ]
  },
  {
   "cell_type": "code",
   "execution_count": null,
   "metadata": {},
   "outputs": [
    {
     "data": {
      "text/plain": [
       "   trip_id arrival_time departure_time  stop_id  stop_sequence  arrival_stop_id\n",
       "0       11     06:03:00       06:00:30        1              1                2\n",
       "2       12     06:08:00       06:05:30        1              1                2\n",
       "4       21     06:08:00       06:03:30        2              1                4\n",
       "6       22     06:13:00       06:08:30        2              1                4\n",
       "8       31     06:04:00       06:00:30        1              1                3\n"
      ]
     },
     "metadata": {},
     "output_type": "display_data"
    }
   ],
   "source": [
    "# Filter out the last stop of each trip, as it has no next stop\n",
    "legs_df = legcreation_df[legcreation_df['trip_id'] == legcreation_df['trip_id'].shift(-1)].copy()\n",
    "legs_df['arrival_stop_id']=legs_df['arrival_stop_id'].astype(int)\n",
    "\n",
    "print(legs_df.head())"
   ]
  },
  {
   "cell_type": "code",
   "execution_count": null,
   "metadata": {},
   "outputs": [
    {
     "data": {
      "text/plain": [
       "   trip_id arrival_time departure_time  ...  arrival_stop_id  route_id  service_id\n",
       "0       11     06:03:00       06:00:30  ...                2         1           1\n",
       "1       12     06:08:00       06:05:30  ...                2         1           1\n",
       "2       21     06:08:00       06:03:30  ...                4         2           1\n",
       "3       22     06:13:00       06:08:30  ...                4         2           1\n",
       "4       31     06:04:00       06:00:30  ...                3         3           1\n",
       "5       32     06:07:00       06:04:30  ...                3         3           1\n",
       "6       41     06:10:00       06:04:30  ...                4         4           1\n",
       "7       42     06:11:00       06:05:30  ...                4         4           1\n",
       "\n",
       "[8 rows x 8 columns]\n"
      ]
     },
     "metadata": {},
     "output_type": "display_data"
    }
   ],
   "source": [
    "# Create \"route_id\" column\n",
    "legs_df = legs_df.merge(trips_df, on='trip_id', how='left')\n",
    "print(legs_df)"
   ]
  },
  {
   "cell_type": "code",
   "execution_count": null,
   "metadata": {},
   "outputs": [
    {
     "data": {
      "text/plain": [
       "   trip_id                                leg\n",
       "0       11  ((1, 06:00:30), (2, 06:03:00), 1)\n",
       "1       12  ((1, 06:05:30), (2, 06:08:00), 1)\n",
       "2       21  ((2, 06:03:30), (4, 06:08:00), 2)\n",
       "3       22  ((2, 06:08:30), (4, 06:13:00), 2)\n",
       "4       31  ((1, 06:00:30), (3, 06:04:00), 3)\n",
       "5       32  ((1, 06:04:30), (3, 06:07:00), 3)\n",
       "6       41  ((3, 06:04:30), (4, 06:10:00), 4)\n",
       "7       42  ((3, 06:05:30), (4, 06:11:00), 4)\n"
      ]
     },
     "metadata": {},
     "output_type": "display_data"
    }
   ],
   "source": [
    "#Creating legs tuples\n",
    "legs_df['leg'] = list(zip(\n",
    "    zip(legs_df['stop_id'], legs_df['departure_time']),\n",
    "    zip(legs_df['arrival_stop_id'], legs_df['arrival_time']),\n",
    "    legs_df['route_id']\n",
    "))\n",
    "\n",
    "legs_df = legs_df[['trip_id', 'leg']]\n",
    "print(legs_df)"
   ]
  },
  {
   "cell_type": "markdown",
   "metadata": {},
   "source": [
    "Reliabilty function"
   ]
  },
  {
   "cell_type": "code",
   "execution_count": null,
   "metadata": {},
   "outputs": [],
   "source": [
    "# Function to calculate probability of successful transfer between two subsequent legs\n",
    "def calculate_transfer_probability(prev_leg: pd.Series, next_leg: pd.Series) -> float:\n",
    "\n",
    "    #If line = next line , then probability = 1 since the traveler remains on the same line\n",
    "    if prev_leg[1][2] == next_leg[1][2]:\n",
    "        return 1  \n",
    "    else:\n",
    "        #check if departure time is larger than arrival\n",
    "        if prev_leg[1][1][1] > next_leg[1][0][1]:\n",
    "            return 0\n",
    "        else :\n",
    "        # created random probability, just for the test\n",
    "            return 0.5\n",
    "            "
   ]
  },
  {
   "cell_type": "code",
   "execution_count": null,
   "metadata": {},
   "outputs": [],
   "source": [
    "# i hope it is cumulative distribution\n",
    "def calculate_cumulative_probability(itinerary) -> list[float]:\n",
    "    cumulative_probabilities = [1] \n",
    "    for i in range(len(itinerary) - 1):\n",
    "        prev_leg = itinerary[i]\n",
    "        next_leg = itinerary[i+1]\n",
    "\n",
    "        transfer_prob = calculate_transfer_probability(prev_leg, next_leg)\n",
    "        cumulative_probabilities.append(cumulative_probabilities[-1] * transfer_prob)\n",
    "    return cumulative_probabilities\n",
    "  "
   ]
  },
  {
   "cell_type": "code",
   "execution_count": null,
   "metadata": {},
   "outputs": [],
   "source": [
    "#conditional probability of making all previous transfers between each leg 1 . . . m of the itinerary. \n",
    "def calculate_product_of_probabilities(cumulative_probabilities: list[float]) -> float:\n",
    "        product_of_probabilities = math.prod(cumulative_probabilities)\n",
    "        return product_of_probabilities\n"
   ]
  },
  {
   "cell_type": "code",
   "execution_count": null,
   "metadata": {},
   "outputs": [
    {
     "data": {
      "text/plain": [
       "[trip_id                                   11\n",
       "leg        ((1, 06:00:30), (2, 06:03:00), 1)\n",
       "Name: 0, dtype: object, trip_id                                   21\n",
       "leg        ((2, 06:03:30), (4, 06:08:00), 2)\n",
       "Name: 2, dtype: object]\n",
       "0.5\n"
      ]
     },
     "metadata": {},
     "output_type": "display_data"
    }
   ],
   "source": [
    "# check \n",
    "itinerary = [legs_df.iloc[0],legs_df.iloc[2]]\n",
    "print(itinerary)\n",
    "cumulative_probabilities = calculate_cumulative_probability(itinerary)\n",
    "#print(cumulative_probabilities)\n",
    "product = calculate_product_of_probabilities(cumulative_probabilities)\n",
    "print(product)"
   ]
  },
  {
   "cell_type": "markdown",
   "metadata": {},
   "source": [
    "Probability of arrival on time"
   ]
  },
  {
   "cell_type": "code",
   "execution_count": null,
   "metadata": {},
   "outputs": [],
   "source": [
    "# if there is a chance to have all succesful transfers, is the arrival time in time budget\n",
    "def calculate_arrival_probability(itinerary, start_time, time_budget) -> int:\n",
    "    # Check if all previous transfers were successful\n",
    "    if math.prod(calculate_cumulative_probability(itinerary)) > 0:  # Only proceed if all transfers are successful( naka can be possibly made)\n",
    "        # Calculate the actual arrival time at the final leg\n",
    "        destination_leg = itinerary[-1]\n",
    "        destination_arrival_time = destination_leg[1][1][1]\n",
    "        \n",
    "        start_time = datetime.strptime(start_time, \"%H:%M:%S\")\n",
    "        destination_arrival_time = datetime.strptime(destination_arrival_time, \"%H:%M:%S\")\n",
    "\n",
    "        total_travel_time = destination_arrival_time - start_time\n",
    "\n",
    "        # Check if total travel time is within the budget\n",
    "        if total_travel_time <= time_budget:\n",
    "            return 1  # Probability of 1 if arrival is within the time budget\n",
    "        else:\n",
    "            return 0  # Probability of 0 if arrival is beyond the time budget\n",
    "    else:\n",
    "        return 0  # Probability of 0 if any prior transfer was unsuccessful\n",
    "    "
   ]
  },
  {
   "cell_type": "code",
   "execution_count": null,
   "metadata": {},
   "outputs": [
    {
     "data": {
      "text/plain": [
       "1\n"
      ]
     },
     "metadata": {},
     "output_type": "display_data"
    }
   ],
   "source": [
    "start_time = \"06:00:00\"\n",
    "time_budget = timedelta(hours=0, minutes=10)\n",
    "a = calculate_arrival_probability(itinerary,start_time,time_budget)\n",
    "print(a)"
   ]
  },
  {
   "cell_type": "code",
   "execution_count": null,
   "metadata": {},
   "outputs": [],
   "source": [
    "def primary_itinerary_reliability(itinerary, start_time, time_budget) -> float:\n",
    "    \n",
    "    cumulative_probabilities = calculate_cumulative_probability(itinerary)\n",
    "    product_of_probabilities= math.prod(cumulative_probabilities)\n",
    "    arrival_probability = calculate_arrival_probability(itinerary,start_time,time_budget)\n",
    "\n",
    "    reliability = arrival_probability * product_of_probabilities\n",
    "    return reliability"
   ]
  },
  {
   "cell_type": "code",
   "execution_count": null,
   "metadata": {},
   "outputs": [
    {
     "data": {
      "text/plain": [
       "0.5\n"
      ]
     },
     "metadata": {},
     "output_type": "display_data"
    }
   ],
   "source": [
    "# check if based on three paramethers\n",
    "itinerary = [legs_df.iloc[4],legs_df.iloc[6]]\n",
    "start_time = \"06:00:00\"\n",
    "time_budget = timedelta(hours=0, minutes=12)\n",
    "reliability = primary_itinerary_reliability(itinerary,start_time,time_budget)\n",
    "print(reliability)"
   ]
  },
  {
   "cell_type": "code",
   "execution_count": null,
   "metadata": {},
   "outputs": [
    {
     "data": {
      "text/plain": [
       "3\n"
      ]
     },
     "metadata": {},
     "output_type": "display_data"
    }
   ],
   "source": [
    "backup_itinerary = [legs_df.iloc[7]]\n",
    "print(backup_itinerary[0][1][0][0])\n"
   ]
  },
  {
   "cell_type": "code",
   "execution_count": null,
   "metadata": {},
   "outputs": [],
   "source": [
    "#im not sure how the \"backup\" will look like (like is it starting from the origin or from the missed transfer point)\n",
    "# backup itineary== (leg of the prim it where is transfer, [sequence of legs of backup starting from the next after transfer], reliability, arrival time)\n",
    "# but for now, backup itineary = [sequence of legs]\n",
    "def backup_itinerary_reliability(itinerary, backup_itinerary:list[pd.Series], start_time, time_budget) -> float:\n",
    "\n",
    "    arrival_probability = calculate_arrival_probability(backup_itinerary, start_time, time_budget)\n",
    "    cumulative_probabilities = calculate_cumulative_probability(itinerary)\n",
    "    product_of_probabilities= math.prod(cumulative_probabilities)\n",
    "    \n",
    "    transfer_point = backup_itinerary[0][1][0][0]\n",
    "    initial_transfer_prob = 1 # Default value in case no missed transfer is identified\n",
    "\n",
    "    for idx, leg in enumerate(itinerary[:-1]):  # Exclude last item since we're accessing i+1\n",
    "        if leg[1][1][0] == transfer_point:\n",
    "            prev_leg = itinerary[idx]\n",
    "            missed_leg = itinerary[idx + 1]\n",
    "            initial_transfer_prob = calculate_transfer_probability(prev_leg,missed_leg)\n",
    "            break\n",
    "\n",
    "    backup_reliability = arrival_probability * product_of_probabilities * (1 - initial_transfer_prob)\n",
    "    \n",
    "    return backup_reliability"
   ]
  },
  {
   "cell_type": "code",
   "execution_count": null,
   "metadata": {},
   "outputs": [
    {
     "data": {
      "text/plain": [
       "0.25\n"
      ]
     },
     "metadata": {},
     "output_type": "display_data"
    }
   ],
   "source": [
    "a = backup_itinerary_reliability(itinerary, backup_itinerary,start_time,time_budget)\n",
    "print(a)"
   ]
  },
  {
   "cell_type": "code",
   "execution_count": null,
   "metadata": {},
   "outputs": [],
   "source": [
    "#Reliability of a complete itinerary \n",
    "#Backups will be set of backups of prim itineary\n",
    "# backup itineary= (leg of the prim it where is transfer, [sequence of legs of backup starting from the next after transfer], reliability, arrival time)\n",
    "def itinerary_reliability(itinerary : list[pd.Series],Backups : list[tuple], start_time:str, time_budget: timedelta) -> float:\n",
    "    primary_reliability = primary_itinerary_reliability(itinerary,start_time,time_budget)\n",
    "    added_reliability = 0\n",
    "    for b in Backups:\n",
    "        #this will be fucked up, as we dont know yet how to make backups ( like on what format)\n",
    "        # i used Set for all backups, but set dont allow df nor lists, so backup_sequence is turple)\n",
    "        backup_itinerary = b[1]\n",
    "        # Convert indices back to full rows using legs_df\n",
    "        backup_reliability = backup_itinerary_reliability(itinerary,backup_itinerary,start_time,time_budget)\n",
    "        added_reliability += backup_reliability\n",
    "    \n",
    "\n",
    "    complete_reliability = primary_reliability + added_reliability\n",
    "    return complete_reliability"
   ]
  },
  {
   "cell_type": "markdown",
   "metadata": {},
   "source": [
    "Check of this whole reliability thing"
   ]
  },
  {
   "cell_type": "code",
   "execution_count": null,
   "metadata": {},
   "outputs": [
    {
     "data": {
      "text/plain": [
       "0.75\n"
      ]
     },
     "metadata": {},
     "output_type": "display_data"
    }
   ],
   "source": [
    "#check of this whole reliability bullshit\n",
    "itinerary = [legs_df.iloc[4],legs_df.iloc[6]]\n",
    "start_time = \"06:00:00\"\n",
    "time_budget = timedelta(hours=0, minutes=12)\n",
    "\n",
    "# backup itineary= (leg of the prim it where is transfer, [sequence of legs of backup starting from the next after transfer], reliability, arrival time)\n",
    "# idk whats happening at this point actually\n",
    "\n",
    "transfer_leg = itinerary[0]\n",
    "\n",
    "backup_itinerary = [legs_df.iloc[7]]\n",
    "backup_reliability = backup_itinerary_reliability(itinerary, backup_itinerary,start_time,time_budget)\n",
    "\n",
    "destination_leg = backup_itinerary[-1]\n",
    "arrival_time = destination_leg[1][1][1]\n",
    "\n",
    "backup1 = (transfer_leg,backup_itinerary,backup_reliability,arrival_time)\n",
    "#creating backups list for trying out (too much hasstle with set)\n",
    "Backups = [backup1]\n",
    "\n",
    "a = itinerary_reliability(itinerary,Backups,start_time,time_budget)\n",
    "print(a)"
   ]
  },
  {
   "cell_type": "markdown",
   "metadata": {},
   "source": [
    "We have now reliability function that calculates reliability for the complete itinerary. Now we have to create algorithm of search of the itineary..."
   ]
  },
  {
   "cell_type": "markdown",
   "metadata": {},
   "source": [
    "Network search algorithm"
   ]
  },
  {
   "cell_type": "code",
   "execution_count": null,
   "metadata": {},
   "outputs": [],
   "source": [
    "#not sure if here we should add time dependancy\n",
    "def search_adjecent_legs(node_id):\n",
    "    filtered_legs = []\n",
    "    for index, row in legs_df.iterrows():\n",
    "        if row[1][0][0] == node_id:  # leg[0][0] corresponds to stop_id in the tuple (stop_id, departure_time)\n",
    "            filtered_legs.append(row)\n",
    "    return filtered_legs"
   ]
  },
  {
   "cell_type": "code",
   "execution_count": null,
   "metadata": {},
   "outputs": [],
   "source": [
    "# need to add to arrival probability\n",
    "def travel_time(itinerary, start_time):\n",
    "    destination_leg = itinerary[-1]\n",
    "    destination_arrival_time = destination_leg[1][1][1]\n",
    "        \n",
    "    start_time = datetime.strptime(start_time, \"%H:%M:%S\")\n",
    "    destination_arrival_time = datetime.strptime(destination_arrival_time, \"%H:%M:%S\")\n",
    "\n",
    "    total_travel_time = destination_arrival_time - start_time\n",
    "    return total_travel_time"
   ]
  },
  {
   "cell_type": "code",
   "execution_count": null,
   "metadata": {},
   "outputs": [],
   "source": [
    "def is_transfer(itinerary) -> bool:\n",
    "    prev_leg = itinerary[-2]\n",
    "    next_leg = itinerary[-1]\n",
    "    if prev_leg[1][2] == next_leg[1][2]:\n",
    "        return False\n",
    "    else:\n",
    "        return True"
   ]
  },
  {
   "cell_type": "markdown",
   "metadata": {},
   "source": [
    "Ehmke's algorythm ( almost)"
   ]
  },
  {
   "cell_type": "code",
   "execution_count": null,
   "metadata": {},
   "outputs": [],
   "source": [
    "def find_path(origin_node: int,destination_node: int, start_time : str, time_budget: timedelta):\n",
    "    MRIB_reliability = 0\n",
    "    MRIB = None\n",
    "    LIST = []\n",
    "\n",
    "    adjecent_legs = search_adjecent_legs(origin_node)\n",
    "\n",
    "    for leg in adjecent_legs:\n",
    "        itinerary  = [leg]\n",
    "        reliability = 1\n",
    "        duration = travel_time(itinerary,start_time)\n",
    "        expected_arrival_time = leg[1][1][1]\n",
    "        backups= []\n",
    "        LIST.append([itinerary,reliability,duration,expected_arrival_time,backups])\n",
    "    \n",
    "        \n",
    "    while len(LIST) > 0:\n",
    "        # Find the shortest itinerary\n",
    "        shortest_path = min(LIST, key=lambda x: x[2])  # x[2] is duration (timedelta)\n",
    "        #print(shortest_path)\n",
    "        \n",
    "        #will be issues with that laterrrrr 100%\n",
    "\n",
    "        LIST = [item for item in LIST if item[2] != shortest_path[2]]\n",
    "        #print(len(LIST))\n",
    "        #going further into the network\n",
    "\n",
    "        tail = shortest_path[0][-1]\n",
    "        if tail[1][1][0] == destination_node:\n",
    "            rel = itinerary_reliability(shortest_path[0],backups,start_time,time_budget)\n",
    "            if rel >MRIB_reliability:\n",
    "                MRIB_reliability = rel\n",
    "                MRIB = shortest_path\n",
    "        else:\n",
    "            #here will be all possible path from the second node\n",
    "            LIST1 = []\n",
    "            #set of all legs adjacent to tail leg m\n",
    "            next_legs = search_adjecent_legs(tail[1][1][0])\n",
    "            #print(next_legs)\n",
    "            for leg in next_legs:\n",
    "                itinerary = shortest_path[0] + [leg]\n",
    "                #print(itinerary)\n",
    "                reliability = itinerary_reliability(itinerary,Backups,start_time,time_budget)\n",
    "                #print(reliability)\n",
    "                duration = travel_time(itinerary,start_time)\n",
    "                #print(duration)\n",
    "                expected_arrival_time = leg[1][1][1]\n",
    "                #print(expected_arrival_time)\n",
    "                backup = []\n",
    "                if reliability > 0: # check initially so we dont waste time later\n",
    "                    LIST1.append([itinerary,reliability,duration,expected_arrival_time,backup])\n",
    "                # If leg l j in set of transfer legs T i \n",
    "            #print(LIST1)\n",
    "            if len(LIST1) > 0:\n",
    "                shortest_next_itinerary = min(LIST1, key=lambda x: x[2])\n",
    "                \n",
    "                if is_transfer(shortest_next_itinerary[0]) is False:\n",
    "                    LIST.append(shortest_next_itinerary)\n",
    "                else :\n",
    "                    #remove transfer so only backups are left\n",
    "                    LIST1.remove(shortest_next_itinerary)\n",
    "                    if len(LIST1) > 0:\n",
    "                        shortest_backup_path = min(LIST1, key=lambda x: x[2])\n",
    "                        shortest_backup = shortest_backup_path[0][-2:]\n",
    "                        #print(\"a\",shortest_backup)\n",
    "                        tail = shortest_backup[-1]\n",
    "                        if tail[1][1][0] == destination_id:\n",
    "                            backup = (shortest_backup[0],[shortest_backup[1]])\n",
    "                            #print(\"b\",backup)\n",
    "                            #print(shortest_next_itinerary)\n",
    "                            shortest_next_itinerary[4].append(backup)\n",
    "                            #print(\"aaa\",shortest_next_itinerary)\n",
    "                            LIST.append(shortest_next_itinerary)\n",
    "                        else:\n",
    "                            print(\"well i need to think about that, some round function idk\")\n",
    "                    else:\n",
    "                        print(\"no backups\")\n",
    "            else:\n",
    "                print(\"no further feasible connections\")\n",
    "    return MRIB_reliability, MRIB\n",
    "        \n"
   ]
  },
  {
   "cell_type": "markdown",
   "metadata": {},
   "source": [
    "Okay now we can checkkk"
   ]
  },
  {
   "cell_type": "code",
   "execution_count": null,
   "metadata": {},
   "outputs": [
    {
     "data": {
      "text/plain": [
       "no further feasible connections\n",
       "no backups\n",
       "0.5 [[trip_id                                   31\n",
       "leg        ((1, 06:00:30), (3, 06:04:00), 3)\n",
       "Name: 4, dtype: object, trip_id                                   41\n",
       "leg        ((3, 06:04:30), (4, 06:10:00), 4)\n",
       "Name: 6, dtype: object], 0.75, datetime.timedelta(seconds=600), '06:10:00', [(trip_id                                   31\n",
       "leg        ((1, 06:00:30), (3, 06:04:00), 3)\n",
       "Name: 4, dtype: object, [trip_id                                   42\n",
       "leg        ((3, 06:05:30), (4, 06:11:00), 4)\n",
       "Name: 7, dtype: object])]]\n"
      ]
     },
     "metadata": {},
     "output_type": "display_data"
    }
   ],
   "source": [
    "origin = 1 # for now the departure node is 1\n",
    "destination_id = 4\n",
    "start_time = \"06:00:00\"\n",
    "time_budget = timedelta(hours=0, minutes=15)\n",
    "\n",
    "a,b = find_path(origin,destination_id,start_time,time_budget)\n",
    "print(a,b)"
   ]
  },
  {
   "cell_type": "markdown",
   "metadata": {},
   "source": [
    "Well this is correct, but now we need to see if it works only on this data (ofc it will not work on OBB data without adj) !! ACTUALLY IT IS NOT"
   ]
  }
 ],
 "metadata": {
  "kernelspec": {
   "display_name": "Python 3",
   "language": "python",
   "name": "python3"
  },
  "language_info": {
   "codemirror_mode": {
    "name": "ipython",
    "version": 3
   },
   "file_extension": ".py",
   "mimetype": "text/x-python",
   "name": "python",
   "nbconvert_exporter": "python",
   "pygments_lexer": "ipython3",
   "version": "3.12.0"
  }
 },
 "nbformat": 4,
 "nbformat_minor": 2
}
