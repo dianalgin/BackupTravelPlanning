{
 "cells": [
  {
   "cell_type": "markdown",
   "metadata": {},
   "source": [
    "EA on OBB"
   ]
  },
  {
   "cell_type": "code",
   "execution_count": 1,
   "metadata": {},
   "outputs": [],
   "source": [
    "from datetime import datetime, timedelta\n",
    "import pandas as pd\n",
    "import math"
   ]
  },
  {
   "cell_type": "code",
   "execution_count": 2,
   "metadata": {},
   "outputs": [],
   "source": [
    "def import_data():\n",
    "    gtfs_dir = 'C:/Users/Diana Lutska/DAPP/GTFS_OP_2024_obb/'\n",
    "\n",
    "    # load data\n",
    "    agency_df = pd.read_csv(gtfs_dir + 'agency.txt')\n",
    "    stops_df = pd.read_csv(gtfs_dir + 'stops.txt')\n",
    "    routes_df = pd.read_csv(gtfs_dir + 'routes.txt')\n",
    "    trips_df = pd.read_csv(gtfs_dir + 'trips.txt')\n",
    "    stop_times_df = pd.read_csv(gtfs_dir + 'stop_times.txt')\n",
    "    calendar_df = pd.read_csv(gtfs_dir + 'calendar.txt')\n",
    "\n",
    "    return agency_df, stops_df, routes_df, trips_df, stop_times_df, calendar_df\n",
    "\n",
    "agency_df, stops_df, routes_df, trips_df, stop_times_df, calendar_df = import_data()"
   ]
  },
  {
   "cell_type": "code",
   "execution_count": 3,
   "metadata": {},
   "outputs": [],
   "source": [
    "legcreation_df = stop_times_df.sort_values(['trip_id', 'stop_sequence']).reset_index(drop=True)\n",
    "legcreation_df = legcreation_df.drop(columns=['stop_headsign', 'pickup_type', 'drop_off_type', 'shape_dist_traveled'])"
   ]
  },
  {
   "cell_type": "code",
   "execution_count": 4,
   "metadata": {},
   "outputs": [
    {
     "name": "stdout",
     "output_type": "stream",
     "text": [
      "                          trip_id arrival_time departure_time  stop_sequence  \\\n",
      "0            1.TA.1-MB4-j24-1.1.R     07:01:00       07:01:00              1   \n",
      "1            1.TA.1-MB4-j24-1.1.R     07:02:00       07:02:00              2   \n",
      "2            1.TA.1-MB4-j24-1.1.R     07:04:00       07:04:00              3   \n",
      "3            1.TA.1-MB4-j24-1.1.R     07:07:00       07:07:00              4   \n",
      "4            1.TA.1-MB4-j24-1.1.R     07:10:00       07:11:00              5   \n",
      "...                           ...          ...            ...            ...   \n",
      "296770  998.TA.20-SV9-G-j24-1.4.H     12:33:00       12:33:00              4   \n",
      "296771  999.TA.20-SV9-G-j24-1.4.H     19:20:00       19:20:00              1   \n",
      "296772  999.TA.20-SV9-G-j24-1.4.H     19:28:00       19:28:00              2   \n",
      "296773  999.TA.20-SV9-G-j24-1.4.H     19:33:00       19:33:00              3   \n",
      "296774  999.TA.20-SV9-G-j24-1.4.H     19:43:00       19:43:00              4   \n",
      "\n",
      "                                   stop_name  \n",
      "0                            Schruns Bahnhof  \n",
      "1                         Tschagguns Bahnhof  \n",
      "2                      Kaltenbrunnen Bahnhof  \n",
      "3                            Vandans Bahnhof  \n",
      "4              St. Anton im Montafon Bahnhof  \n",
      "...                                      ...  \n",
      "296770                      Wien Floridsdorf  \n",
      "296771                      Wien Praterstern  \n",
      "296772  Wien Lorenz-Böhler-Unfallkrankenhaus  \n",
      "296773                       Wien Handelskai  \n",
      "296774                      Wien Floridsdorf  \n",
      "\n",
      "[296775 rows x 5 columns]\n"
     ]
    }
   ],
   "source": [
    "legcreation_df = legcreation_df.merge(stops_df[['stop_id', 'stop_name']], on='stop_id', how='left')\n",
    "legcreation_df = legcreation_df.drop(columns=['stop_id'])\n",
    "print(legcreation_df)"
   ]
  },
  {
   "cell_type": "code",
   "execution_count": 5,
   "metadata": {},
   "outputs": [
    {
     "name": "stdout",
     "output_type": "stream",
     "text": [
      "                          trip_id arrival_time departure_time  stop_sequence  \\\n",
      "0            1.TA.1-MB4-j24-1.1.R     07:02:00       07:01:00              1   \n",
      "1            1.TA.1-MB4-j24-1.1.R     07:04:00       07:02:00              2   \n",
      "2            1.TA.1-MB4-j24-1.1.R     07:07:00       07:04:00              3   \n",
      "3            1.TA.1-MB4-j24-1.1.R     07:10:00       07:07:00              4   \n",
      "4            1.TA.1-MB4-j24-1.1.R     07:13:00       07:11:00              5   \n",
      "...                           ...          ...            ...            ...   \n",
      "296770  998.TA.20-SV9-G-j24-1.4.H     19:20:00       12:33:00              4   \n",
      "296771  999.TA.20-SV9-G-j24-1.4.H     19:28:00       19:20:00              1   \n",
      "296772  999.TA.20-SV9-G-j24-1.4.H     19:33:00       19:28:00              2   \n",
      "296773  999.TA.20-SV9-G-j24-1.4.H     19:43:00       19:33:00              3   \n",
      "296774  999.TA.20-SV9-G-j24-1.4.H         None       19:43:00              4   \n",
      "\n",
      "                                   stop_name  \\\n",
      "0                            Schruns Bahnhof   \n",
      "1                         Tschagguns Bahnhof   \n",
      "2                      Kaltenbrunnen Bahnhof   \n",
      "3                            Vandans Bahnhof   \n",
      "4              St. Anton im Montafon Bahnhof   \n",
      "...                                      ...   \n",
      "296770                      Wien Floridsdorf   \n",
      "296771                      Wien Praterstern   \n",
      "296772  Wien Lorenz-Böhler-Unfallkrankenhaus   \n",
      "296773                       Wien Handelskai   \n",
      "296774                      Wien Floridsdorf   \n",
      "\n",
      "                           arrival_stop_name  \n",
      "0                         Tschagguns Bahnhof  \n",
      "1                      Kaltenbrunnen Bahnhof  \n",
      "2                            Vandans Bahnhof  \n",
      "3              St. Anton im Montafon Bahnhof  \n",
      "4                             Lorüns Bahnhof  \n",
      "...                                      ...  \n",
      "296770                      Wien Praterstern  \n",
      "296771  Wien Lorenz-Böhler-Unfallkrankenhaus  \n",
      "296772                       Wien Handelskai  \n",
      "296773                      Wien Floridsdorf  \n",
      "296774                                  None  \n",
      "\n",
      "[296775 rows x 6 columns]\n"
     ]
    }
   ],
   "source": [
    "#Shift the columns to get the arrival stop and time for each departure stop and time\n",
    "legcreation_df['arrival_stop_name'] = legcreation_df['stop_name'].shift(-1)\n",
    "legcreation_df['arrival_time'] = legcreation_df['arrival_time'].shift(-1)\n",
    "\n",
    "print(legcreation_df)"
   ]
  },
  {
   "cell_type": "code",
   "execution_count": 6,
   "metadata": {},
   "outputs": [
    {
     "name": "stdout",
     "output_type": "stream",
     "text": [
      "                trip_id arrival_time departure_time  stop_sequence  \\\n",
      "0  1.TA.1-MB4-j24-1.1.R     07:02:00       07:01:00              1   \n",
      "1  1.TA.1-MB4-j24-1.1.R     07:04:00       07:02:00              2   \n",
      "2  1.TA.1-MB4-j24-1.1.R     07:07:00       07:04:00              3   \n",
      "3  1.TA.1-MB4-j24-1.1.R     07:10:00       07:07:00              4   \n",
      "4  1.TA.1-MB4-j24-1.1.R     07:13:00       07:11:00              5   \n",
      "\n",
      "                       stop_name              arrival_stop_name  \n",
      "0                Schruns Bahnhof             Tschagguns Bahnhof  \n",
      "1             Tschagguns Bahnhof          Kaltenbrunnen Bahnhof  \n",
      "2          Kaltenbrunnen Bahnhof                Vandans Bahnhof  \n",
      "3                Vandans Bahnhof  St. Anton im Montafon Bahnhof  \n",
      "4  St. Anton im Montafon Bahnhof                 Lorüns Bahnhof  \n"
     ]
    }
   ],
   "source": [
    "# Filter out the last stop of each trip, as it has no next stop\n",
    "legs_df = legcreation_df[legcreation_df['trip_id'] == legcreation_df['trip_id'].shift(-1)].copy()\n",
    "#legs_df['arrival_stop_id']=legs_df['arrival_stop_id'].astype(int)\n",
    "\n",
    "print(legs_df.head())"
   ]
  },
  {
   "cell_type": "code",
   "execution_count": 7,
   "metadata": {},
   "outputs": [
    {
     "name": "stdout",
     "output_type": "stream",
     "text": [
      "                trip_id arrival_time departure_time  stop_sequence  \\\n",
      "0  1.TA.1-MB4-j24-1.1.R     07:02:00       07:01:00              1   \n",
      "1  1.TA.1-MB4-j24-1.1.R     07:04:00       07:02:00              2   \n",
      "2  1.TA.1-MB4-j24-1.1.R     07:07:00       07:04:00              3   \n",
      "3  1.TA.1-MB4-j24-1.1.R     07:10:00       07:07:00              4   \n",
      "4  1.TA.1-MB4-j24-1.1.R     07:13:00       07:11:00              5   \n",
      "\n",
      "                       stop_name              arrival_stop_name  \n",
      "0                Schruns Bahnhof             Tschagguns Bahnhof  \n",
      "1             Tschagguns Bahnhof          Kaltenbrunnen Bahnhof  \n",
      "2          Kaltenbrunnen Bahnhof                Vandans Bahnhof  \n",
      "3                Vandans Bahnhof  St. Anton im Montafon Bahnhof  \n",
      "4  St. Anton im Montafon Bahnhof                 Lorüns Bahnhof  \n"
     ]
    }
   ],
   "source": [
    "legs_df = legcreation_df[legcreation_df['trip_id'] == legcreation_df['trip_id'].shift(-1)].copy()\n",
    "\n",
    "\n",
    "print(legs_df.head())"
   ]
  },
  {
   "cell_type": "code",
   "execution_count": 8,
   "metadata": {},
   "outputs": [
    {
     "name": "stdout",
     "output_type": "stream",
     "text": [
      "            route_id                   trip_id\n",
      "0       10-A10-j24-1     1.TA.10-A10-j24-1.1.R\n",
      "1       10-A10-j24-1     2.TA.10-A10-j24-1.2.R\n",
      "2       10-A10-j24-1     3.TA.10-A10-j24-1.3.R\n",
      "3       10-A10-j24-1     4.TA.10-A10-j24-1.3.R\n",
      "4       10-A11-j24-1  101.TA.10-A11-j24-1.20.H\n",
      "...              ...                       ...\n",
      "32993  4-CX9-W-j24-1  95.TA.4-CX9-W-j24-1.49.R\n",
      "32994  4-CX9-W-j24-1  96.TA.4-CX9-W-j24-1.49.R\n",
      "32995  4-CX9-W-j24-1  97.TA.4-CX9-W-j24-1.50.R\n",
      "32996  4-CX9-W-j24-1  98.TA.4-CX9-W-j24-1.51.R\n",
      "32997  4-CX9-W-j24-1  99.TA.4-CX9-W-j24-1.52.R\n",
      "\n",
      "[32998 rows x 2 columns]\n"
     ]
    }
   ],
   "source": [
    "trips_df=trips_df.drop(columns=[\"service_id\",'shape_id','trip_headsign','trip_short_name','direction_id','block_id'])\n",
    "print(trips_df)"
   ]
  },
  {
   "cell_type": "code",
   "execution_count": 9,
   "metadata": {},
   "outputs": [],
   "source": [
    "def adjust_time_if_needed(time_str):\n",
    "    hours, minutes, seconds = map(int, time_str.split(\":\"))\n",
    "    if hours >= 24:\n",
    "        adjusted_hours = hours - 24  # Reduce hours by 24\n",
    "        return f\"{adjusted_hours:02}:{minutes:02}:{seconds:02}\"\n",
    "    return time_str"
   ]
  },
  {
   "cell_type": "code",
   "execution_count": 10,
   "metadata": {},
   "outputs": [],
   "source": [
    "legs_df['arrival_time'] = legs_df['arrival_time'].apply(adjust_time_if_needed)\n",
    "legs_df['departure_time'] = legs_df['departure_time'].apply(adjust_time_if_needed)"
   ]
  },
  {
   "cell_type": "code",
   "execution_count": 11,
   "metadata": {},
   "outputs": [
    {
     "name": "stdout",
     "output_type": "stream",
     "text": [
      "<bound method NDFrame.head of                           trip_id arrival_time departure_time  stop_sequence  \\\n",
      "0            1.TA.1-MB4-j24-1.1.R     07:02:00       07:01:00              1   \n",
      "1            1.TA.1-MB4-j24-1.1.R     07:04:00       07:02:00              2   \n",
      "2            1.TA.1-MB4-j24-1.1.R     07:07:00       07:04:00              3   \n",
      "3            1.TA.1-MB4-j24-1.1.R     07:10:00       07:07:00              4   \n",
      "4            1.TA.1-MB4-j24-1.1.R     07:13:00       07:11:00              5   \n",
      "...                           ...          ...            ...            ...   \n",
      "263772  998.TA.20-SV9-G-j24-1.4.H     12:23:00       12:18:00              2   \n",
      "263773  998.TA.20-SV9-G-j24-1.4.H     12:33:00       12:23:00              3   \n",
      "263774  999.TA.20-SV9-G-j24-1.4.H     19:28:00       19:20:00              1   \n",
      "263775  999.TA.20-SV9-G-j24-1.4.H     19:33:00       19:28:00              2   \n",
      "263776  999.TA.20-SV9-G-j24-1.4.H     19:43:00       19:33:00              3   \n",
      "\n",
      "                                   stop_name  \\\n",
      "0                            Schruns Bahnhof   \n",
      "1                         Tschagguns Bahnhof   \n",
      "2                      Kaltenbrunnen Bahnhof   \n",
      "3                            Vandans Bahnhof   \n",
      "4              St. Anton im Montafon Bahnhof   \n",
      "...                                      ...   \n",
      "263772  Wien Lorenz-Böhler-Unfallkrankenhaus   \n",
      "263773                       Wien Handelskai   \n",
      "263774                      Wien Praterstern   \n",
      "263775  Wien Lorenz-Böhler-Unfallkrankenhaus   \n",
      "263776                       Wien Handelskai   \n",
      "\n",
      "                           arrival_stop_name        route_id  \n",
      "0                         Tschagguns Bahnhof     1-MB4-j24-1  \n",
      "1                      Kaltenbrunnen Bahnhof     1-MB4-j24-1  \n",
      "2                            Vandans Bahnhof     1-MB4-j24-1  \n",
      "3              St. Anton im Montafon Bahnhof     1-MB4-j24-1  \n",
      "4                             Lorüns Bahnhof     1-MB4-j24-1  \n",
      "...                                      ...             ...  \n",
      "263772                       Wien Handelskai  20-SV9-G-j24-1  \n",
      "263773                      Wien Floridsdorf  20-SV9-G-j24-1  \n",
      "263774  Wien Lorenz-Böhler-Unfallkrankenhaus  20-SV9-G-j24-1  \n",
      "263775                       Wien Handelskai  20-SV9-G-j24-1  \n",
      "263776                      Wien Floridsdorf  20-SV9-G-j24-1  \n",
      "\n",
      "[263777 rows x 7 columns]>\n"
     ]
    }
   ],
   "source": [
    "legs_df = legs_df.merge(trips_df, on='trip_id', how='left')\n",
    "print(legs_df.head)"
   ]
  },
  {
   "cell_type": "code",
   "execution_count": 12,
   "metadata": {},
   "outputs": [
    {
     "name": "stdout",
     "output_type": "stream",
     "text": [
      "                          trip_id  \\\n",
      "0            1.TA.1-MB4-j24-1.1.R   \n",
      "1            1.TA.1-MB4-j24-1.1.R   \n",
      "2            1.TA.1-MB4-j24-1.1.R   \n",
      "3            1.TA.1-MB4-j24-1.1.R   \n",
      "4            1.TA.1-MB4-j24-1.1.R   \n",
      "...                           ...   \n",
      "263772  998.TA.20-SV9-G-j24-1.4.H   \n",
      "263773  998.TA.20-SV9-G-j24-1.4.H   \n",
      "263774  999.TA.20-SV9-G-j24-1.4.H   \n",
      "263775  999.TA.20-SV9-G-j24-1.4.H   \n",
      "263776  999.TA.20-SV9-G-j24-1.4.H   \n",
      "\n",
      "                                                      leg  \n",
      "0       ((Schruns Bahnhof, 07:01:00), (Tschagguns Bahn...  \n",
      "1       ((Tschagguns Bahnhof, 07:02:00), (Kaltenbrunne...  \n",
      "2       ((Kaltenbrunnen Bahnhof, 07:04:00), (Vandans B...  \n",
      "3       ((Vandans Bahnhof, 07:07:00), (St. Anton im Mo...  \n",
      "4       ((St. Anton im Montafon Bahnhof, 07:11:00), (L...  \n",
      "...                                                   ...  \n",
      "263772  ((Wien Lorenz-Böhler-Unfallkrankenhaus, 12:18:...  \n",
      "263773  ((Wien Handelskai, 12:23:00), (Wien Floridsdor...  \n",
      "263774  ((Wien Praterstern, 19:20:00), (Wien Lorenz-Bö...  \n",
      "263775  ((Wien Lorenz-Böhler-Unfallkrankenhaus, 19:28:...  \n",
      "263776  ((Wien Handelskai, 19:33:00), (Wien Floridsdor...  \n",
      "\n",
      "[263777 rows x 2 columns]\n"
     ]
    }
   ],
   "source": [
    "#Creating legs tuples\n",
    "legs_df['leg'] = list(zip(\n",
    "    zip(legs_df['stop_name'], legs_df['departure_time']),\n",
    "    zip(legs_df['arrival_stop_name'], legs_df['arrival_time']),\n",
    "    legs_df['route_id']\n",
    "))\n",
    "\n",
    "legs_df = legs_df[['trip_id', 'leg']]\n",
    "print(legs_df)"
   ]
  },
  {
   "cell_type": "markdown",
   "metadata": {},
   "source": [
    "Well.... i created legs.. but am quiet afraid of what will happen next"
   ]
  },
  {
   "cell_type": "code",
   "execution_count": 13,
   "metadata": {},
   "outputs": [],
   "source": [
    "# Function to calculate probability of successful transfer between two subsequent legs\n",
    "def calculate_transfer_probability(prev_leg: pd.Series, next_leg: pd.Series) -> float:\n",
    "    if prev_leg.iloc[0] == next_leg.iloc[0]:\n",
    "        return 1\n",
    "    else:\n",
    "        # >= as if transfer, cannot be arrival and departure at the same time\n",
    "        if prev_leg.iloc[1][1][1] >= next_leg.iloc[1][0][1]:\n",
    "            return 0\n",
    "        #If tripId = next tripId , then probability = 1 since the traveler remains on the same line\n",
    "        else:\n",
    "            return 0.5\n",
    "            # created random probability, just for the test\n",
    "            #then have maybe exponential distribution ( less time- less probability, but if more that 15-30 it will stay like 0.8- 0.9)\n"
   ]
  },
  {
   "cell_type": "code",
   "execution_count": 14,
   "metadata": {},
   "outputs": [
    {
     "data": {
      "text/plain": [
       "1"
      ]
     },
     "execution_count": 14,
     "metadata": {},
     "output_type": "execute_result"
    }
   ],
   "source": [
    "#step by step\n",
    "prev_leg = legs_df.iloc[1]\n",
    "next_leg = legs_df.iloc[2]\n",
    "a = calculate_transfer_probability(prev_leg,next_leg)\n",
    "a"
   ]
  },
  {
   "cell_type": "code",
   "execution_count": 15,
   "metadata": {},
   "outputs": [],
   "source": [
    "# i hope it is cumulative distribution\n",
    "def calculate_cumulative_probability(itinerary) -> list[float]:\n",
    "    cumulative_probabilities = [1] \n",
    "    for i in range(len(itinerary) - 1):\n",
    "        prev_leg = itinerary[i]\n",
    "        next_leg = itinerary[i+1]\n",
    "\n",
    "        transfer_prob = calculate_transfer_probability(prev_leg, next_leg)\n",
    "        cumulative_probabilities.append(transfer_prob)\n",
    "    return cumulative_probabilities\n",
    "  "
   ]
  },
  {
   "cell_type": "code",
   "execution_count": 16,
   "metadata": {},
   "outputs": [],
   "source": [
    "def parse_custom_time_format(time_str: str) -> int:\n",
    "    \"\"\"\n",
    "    Converts a time string like '25:06:30' into total minutes.\n",
    "    \"\"\"\n",
    "    hours, minutes, seconds = map(int, time_str.split(\":\"))\n",
    "    total_minutes = hours * 60 + minutes + seconds / 60\n",
    "    return total_minutes"
   ]
  },
  {
   "cell_type": "code",
   "execution_count": 17,
   "metadata": {},
   "outputs": [],
   "source": [
    "# if there is a chance to have all succesful transfers, is the arrival time in time budget\n",
    "def calculate_arrival_probability(itinerary, start_time, time_budget) -> int:\n",
    "    # Check if all previous transfers were successful\n",
    "    if math.prod(calculate_cumulative_probability(itinerary)) > 0:  # Only proceed if all transfers are successful( naka can be possibly made)\n",
    "        # Calculate the actual arrival time at the final leg\n",
    "        destination_leg = itinerary[-1]\n",
    "        destination_arrival_time = destination_leg.iloc[1][1][1]\n",
    "        \n",
    "        start_time = datetime.strptime(start_time, \"%H:%M:%S\")\n",
    "        destination_arrival_time = datetime.strptime(destination_arrival_time, \"%H:%M:%S\")\n",
    "\n",
    "        total_travel_time = destination_arrival_time - start_time\n",
    "\n",
    "        # Check if total travel time is within the budget\n",
    "        if total_travel_time <= time_budget:\n",
    "            return 1  # Probability of 1 if arrival is within the time budget\n",
    "        else:\n",
    "            return 0  # Probability of 0 if arrival is beyond the time budget\n",
    "    else:\n",
    "        return 0  # Probability of 0 if any prior transfer was unsuccessful"
   ]
  },
  {
   "cell_type": "code",
   "execution_count": 18,
   "metadata": {},
   "outputs": [],
   "source": [
    "def primary_itinerary_reliability(itinerary, start_time, time_budget) -> float:\n",
    "    \n",
    "    cumulative_probabilities = calculate_cumulative_probability(itinerary)\n",
    "    product_of_probabilities= math.prod(cumulative_probabilities)\n",
    "    arrival_probability = calculate_arrival_probability(itinerary,start_time,time_budget)\n",
    "\n",
    "    reliability = arrival_probability * product_of_probabilities\n",
    "    return reliability"
   ]
  },
  {
   "cell_type": "code",
   "execution_count": 19,
   "metadata": {},
   "outputs": [],
   "source": [
    "#im not sure how the \"backup\" will look like (like is it starting from the origin or from the missed transfer point)\n",
    "# backup = (leg of the prim it where is transfer, [sequence of legs of backup starting from the next after transfer], reliability, arrival time)\n",
    "#backup_legs = [list of backups excluding prim]\n",
    "def backup_itinerary_reliability(itinerary, backup:tuple, start_time, time_budget) -> float:\n",
    "    \n",
    "    #change the format\n",
    "    backup_itinerary = backup[1][:]\n",
    "    backup_itinerary.insert(0,backup[0])\n",
    "    arrival_probability = calculate_arrival_probability(backup_itinerary, start_time, time_budget)\n",
    "    cumulative_probabilities = calculate_cumulative_probability(backup_itinerary)\n",
    "    product_of_probabilities= math.prod(cumulative_probabilities)\n",
    "    \n",
    "    transfer_leg = backup[0] #leg of prim itn.\n",
    "    transfer_point = transfer_leg.iloc[1][1][0]\n",
    "    initial_transfer_prob = 1 # Default value in case no missed transfer is identified\n",
    "\n",
    "    #but what if backup not to the last leg????\n",
    "    for idx, leg in enumerate(itinerary[:-1]):  # Exclude last item since we're accessing i+1\n",
    "        #basically comparing if it is the same leg\n",
    "        if leg.iloc[1] is transfer_leg.iloc[1]:\n",
    "            prev_leg = itinerary[idx]\n",
    "            missed_leg = itinerary[idx + 1]\n",
    "            initial_transfer_prob = calculate_transfer_probability(prev_leg,missed_leg)\n",
    "            break\n",
    " \n",
    "    backup_reliability = arrival_probability * product_of_probabilities * (1 - initial_transfer_prob)\n",
    "    \n",
    "    return backup_reliability\n"
   ]
  },
  {
   "cell_type": "code",
   "execution_count": 20,
   "metadata": {},
   "outputs": [],
   "source": [
    "#Reliability of a complete itinerary \n",
    "#Backups will be set of backups of prim itineary\n",
    "# backup itineary= (leg of the prim it where is transfer, [sequence of legs of backup starting from the next after transfer], reliability, arrival time)\n",
    "def itinerary_reliability(itinerary : list[pd.Series],Backups : list[tuple], start_time:str, time_budget: timedelta) -> float:\n",
    "    primary_reliability = primary_itinerary_reliability(itinerary,start_time,time_budget)\n",
    "    if primary_reliability > 0 :\n",
    "        added_reliability = 0\n",
    "        for backup in Backups:\n",
    "            #this will be fucked up, as we dont know yet how to make backups ( like on what format)\n",
    "            backup_reliability = backup_itinerary_reliability(itinerary,backup,start_time,time_budget)\n",
    "            added_reliability += backup_reliability\n",
    "        added_reliability = min(added_reliability, 1-primary_reliability)\n",
    "        complete_reliability = primary_reliability + added_reliability\n",
    "        return complete_reliability\n",
    "    else:\n",
    "        return 0.0"
   ]
  },
  {
   "cell_type": "markdown",
   "metadata": {},
   "source": [
    "lalal"
   ]
  },
  {
   "cell_type": "code",
   "execution_count": 21,
   "metadata": {},
   "outputs": [],
   "source": [
    "def filter_network(start_time,time_budget):\n",
    "    filtered_network= []\n",
    "    start_time = datetime.strptime(start_time, \"%H:%M:%S\")\n",
    "    end_time = start_time + time_budget\n",
    "    print(end_time)\n",
    "    for index, row in legs_df.iterrows():\n",
    "        leg_departure_time = datetime.strptime(row.iloc[1][0][1],\"%H:%M:%S\")\n",
    "        leg_arrival_time = datetime.strptime(row.iloc[1][1][1],\"%H:%M:%S\")\n",
    "        if leg_departure_time >= start_time and leg_departure_time<= end_time and leg_arrival_time <= end_time:\n",
    "            filtered_network.append(row)\n",
    "    print(\"Network\",len(filtered_network))\n",
    "    return filtered_network"
   ]
  },
  {
   "cell_type": "code",
   "execution_count": 22,
   "metadata": {},
   "outputs": [],
   "source": [
    "#not sure if here we should add time dependancy\n",
    "def search_adjecent_legs(node_id,arrival_time,start_time,time_budget,filtered_legs):\n",
    "    arrival_time = datetime.strptime(arrival_time, \"%H:%M:%S\")\n",
    "    adjecent_legs = []\n",
    "    for i in range(0,len(filtered_legs)):\n",
    "        leg = filtered_legs[i]\n",
    "        leg_departure_time = datetime.strptime(leg.iloc[1][0][1],\"%H:%M:%S\")\n",
    "        if leg.iloc[1][0][0] == node_id and leg_departure_time >= arrival_time :  # leg[0][0] corresponds to stop_id in the tuple (stop_id, departure_time)\n",
    "            adjecent_legs.append(leg)\n",
    "    print(\"ADJ\",len(adjecent_legs))\n",
    "    return adjecent_legs"
   ]
  },
  {
   "cell_type": "code",
   "execution_count": 23,
   "metadata": {},
   "outputs": [],
   "source": [
    "def filter_adjecent_legs(adjecent_legs,shortest_path_trip_id):\n",
    "    filtered_legs = {}\n",
    "    for leg in adjecent_legs:\n",
    "        destination_node = leg[1][1][0]\n",
    "        trip_id = leg[0]\n",
    "        if destination_node not in filtered_legs:\n",
    "            filtered_legs[destination_node] = leg\n",
    "        else:\n",
    "            current_leg = filtered_legs[destination_node]\n",
    "            # Compare and retain the shortest leg\n",
    "            if datetime.strptime(leg[1][1][1], \"%H:%M:%S\") < datetime.strptime(current_leg[1][1][1], \"%H:%M:%S\"):\n",
    "                filtered_legs[destination_node] = leg\n",
    "            elif shortest_path_trip_id and trip_id == shortest_path_trip_id:\n",
    "                filtered_legs[trip_id] = leg\n",
    "\n",
    "    return list(filtered_legs.values())"
   ]
  },
  {
   "cell_type": "code",
   "execution_count": 24,
   "metadata": {},
   "outputs": [],
   "source": [
    "# need to add to arrival probability\n",
    "def travel_time(itinerary, start_time):\n",
    "    destination_leg = itinerary[-1]\n",
    "    destination_arrival_time = destination_leg.iloc[1][1][1]\n",
    "        \n",
    "    start_time = datetime.strptime(start_time, \"%H:%M:%S\")\n",
    "    destination_arrival_time = datetime.strptime(destination_arrival_time, \"%H:%M:%S\")\n",
    "\n",
    "    total_travel_time = destination_arrival_time - start_time\n",
    "    return total_travel_time"
   ]
  },
  {
   "cell_type": "code",
   "execution_count": 25,
   "metadata": {},
   "outputs": [],
   "source": [
    "def is_transfer(itinerary) -> bool:\n",
    "    prev_leg = itinerary[-2]\n",
    "    next_leg = itinerary[-1]\n",
    "    if prev_leg.iloc[0] == next_leg.iloc[0]:\n",
    "        return False\n",
    "    else:\n",
    "        return True"
   ]
  },
  {
   "cell_type": "code",
   "execution_count": 26,
   "metadata": {},
   "outputs": [],
   "source": [
    "def find_min_index(LIST:list):\n",
    "    \"\"\"Find the index of the itinerary with the shortest duration.\"\"\"\n",
    "    #adjust for bachup\n",
    "    min_index = 0\n",
    "    min_value =  LIST[0][2]\n",
    "    for i in range(1, len(LIST)):\n",
    "        current_value = LIST[i][2]\n",
    "        if current_value < min_value:\n",
    "            min_value = current_value\n",
    "            min_index = i\n",
    "\n",
    "    return min_index"
   ]
  },
  {
   "cell_type": "code",
   "execution_count": 27,
   "metadata": {},
   "outputs": [],
   "source": [
    "def update_visited_stops(visited_stops, leg):\n",
    "    \"\"\"Update the visited stops dictionary with a new leg.\"\"\"\n",
    "    destination_stop = leg.iloc[1][1][0]\n",
    "    arrival_time = datetime.strptime(leg.iloc[1][1][1], \"%H:%M:%S\")\n",
    "    trip_id = leg.iloc[0]\n",
    "    visited_stops[destination_stop] = (arrival_time, trip_id)"
   ]
  },
  {
   "cell_type": "code",
   "execution_count": 28,
   "metadata": {},
   "outputs": [],
   "source": [
    "def check_and_update_mrib(shortest_path, MRIB_reliability, MRIB, start_time, time_budget):\n",
    "    \"\"\"Check and update the most reliable path (MRIB) if applicable.\"\"\"\n",
    "    Backups = shortest_path[4][:]\n",
    "    rel = itinerary_reliability(shortest_path[0], Backups, start_time, time_budget)\n",
    "    if rel > MRIB_reliability:\n",
    "        print(\"New most reliable path found\")\n",
    "        MRIB_reliability = rel\n",
    "        MRIB = shortest_path\n",
    "    return MRIB_reliability, MRIB"
   ]
  },
  {
   "cell_type": "code",
   "execution_count": 29,
   "metadata": {},
   "outputs": [],
   "source": [
    "def can_visit_leg(leg, visited_stops, shortest_path_trip_id, destination_node):\n",
    "    \"\"\"\n",
    "    Determines if a leg can be visited based on visited stops and time.\n",
    "\n",
    "    Parameters:\n",
    "        leg (list): The leg being evaluated.\n",
    "        visited_stops (dict): Dictionary of visited stops with their earliest times.\n",
    "        shortest_path_trip_id (str): Trip ID of the current path, if any.\n",
    "\n",
    "    Returns:\n",
    "        bool: True if the leg can be visited, False otherwise.\n",
    "    \"\"\"\n",
    "    arrival_stop = leg.iloc[1][1][0]  # Get destination stop ID\n",
    "    arrival_time = datetime.strptime(leg.iloc[1][1][1], \"%H:%M:%S\")  # Arrival time\n",
    "    trip_id = leg.iloc[0]  # Assuming trip_id is at index 0\n",
    "    if destination_node != arrival_stop:\n",
    "        if arrival_stop in visited_stops:\n",
    "            visited_time, visited_trip_id = visited_stops[arrival_stop]\n",
    "            if trip_id == shortest_path_trip_id:\n",
    "                if arrival_time <= visited_time:\n",
    "                    visited_stops[arrival_stop] = (arrival_time, trip_id)\n",
    "                return True\n",
    "            else : \n",
    "                if arrival_time > visited_time:\n",
    "                    return False\n",
    "                elif arrival_time == visited_time and trip_id == visited_trip_id:\n",
    "                    return True\n",
    "                elif arrival_time == visited_time:\n",
    "                    return False\n",
    "                else:\n",
    "                    visited_stops[arrival_stop] = (arrival_time, trip_id)\n",
    "                    return True\n",
    "\n",
    "        else:\n",
    "            visited_stops[arrival_stop] = (arrival_time, trip_id)\n",
    "            return True\n",
    "    return True"
   ]
  },
  {
   "cell_type": "markdown",
   "metadata": {},
   "source": [
    "It is confusing, but stay with me\n",
    "leg is [trip id,((stopid,time departure),(stopid,time arival), route id)]\n",
    "trip = leg[0]\n",
    "departure stop = leg[1][0][0]\n",
    "dep time = [1][0][1]\n",
    "arrival stop = leg[1][1][0]\n",
    "arrival time = leg [1][1][1]\n",
    "route = leg[1][2]\n",
    "\n",
    "trip is [[primary_itinerary],reliability,duration,expected_arrival time,[backup trip]]\n",
    "so basically to acces you need to add [0] to everything inside the leg"
   ]
  },
  {
   "cell_type": "code",
   "execution_count": 30,
   "metadata": {},
   "outputs": [],
   "source": [
    "def backup_search(shortest_path,shortest_next_itinerary,LIST_NEXT,destination_node,start_time,time_budget,filtered_legs,visited_stops):\n",
    "\n",
    "    #Initial Setup\n",
    "    MRB_reliability = 0.2\n",
    "    MRB = None\n",
    "    LIST_Backups = []\n",
    "    visited_stops_b = visited_stops.copy()\n",
    "    transfer_leg = shortest_path[0][-1]\n",
    "    primary_itinerary = shortest_next_itinerary[0]\n",
    "    for leg in primary_itinerary:\n",
    "        update_visited_stops(visited_stops_b,leg)\n",
    "\n",
    "    # no actually change so it that the departure of the next_itinerary -- if it is earlier, no point\n",
    "    #transfer_arrival_time = datetime.strptime(transfer_leg.iloc[1][1][1], \"%H:%M:%S\")+timedelta(minutes=1)\n",
    "    missed_leg_dep_time = datetime.strptime(primary_itinerary[-1].iloc[1][0][1], \"%H:%M:%S\") \n",
    "\n",
    "    #Transforming backups\n",
    "    for i in range(0, len(LIST_NEXT)):\n",
    "        #print(\"I\",i) \n",
    "        #maube change later\n",
    "        b_tail = LIST_NEXT[i][0][-1] # last leg- aka backup\n",
    "        backup = (transfer_leg,[b_tail])\n",
    "        #print(\"backup\",backup)\n",
    "        b_reliability = backup_itinerary_reliability(primary_itinerary,backup,start_time,time_budget)\n",
    "        backup_full = (transfer_leg,[b_tail],b_reliability)\n",
    "        b_duration = travel_time([b_tail],start_time)\n",
    "        \n",
    "        # so hear me out.. if we failed transfer, that means we are late, so we need the departure time of at least 30 sec after arrival?\n",
    "        deparure_time = datetime.strptime(b_tail.iloc[1][0][1], \"%H:%M:%S\")\n",
    "        if deparure_time > missed_leg_dep_time:\n",
    "            if b_reliability > 0 and timedelta(seconds=0) < b_duration <= time_budget: # check initially so we dont waste time later\n",
    "                LIST_Backups.append(backup_full)\n",
    "                \n",
    "            #else:\n",
    "                #print(\"Backup Reliability 0 -1\")\n",
    "        #else:\n",
    "            #print(\"No chance to get on the backup\")\n",
    "        update_visited_stops(visited_stops_b, b_tail)\n",
    "            # Update visited stops\n",
    "        \n",
    "    #print(\"visited b stops\", visited_stops_b)\n",
    "    #print(\"list_backups\",LIST_Backups)\n",
    "\n",
    "    #Backup loop\n",
    "    while len(LIST_Backups) > 0: \n",
    "        print(\"New backup iteration\")  \n",
    "        min_index_b = 0\n",
    "        min_value_b =  LIST_Backups[0][1][-1].iloc[1][1][1]# the arrival time of the last leg of backup\n",
    "        for i in range(1, len(LIST_Backups)):\n",
    "            current_value_b = LIST_Backups[i][1][-1].iloc[1][1][1]\n",
    "            if current_value_b < min_value_b:\n",
    "                min_value_b = current_value_b\n",
    "                min_index_b = i\n",
    "    \t\n",
    "        shortest_backup = LIST_Backups.pop(min_index_b)\n",
    "        print(\"Shortest backup\",shortest_backup)\n",
    "        \n",
    "        passed_stops_b =[]\n",
    "        for leg in primary_itinerary:\n",
    "            destination_stop = leg.iloc[1][1][0]\n",
    "            passed_stops_b.append(destination_stop)\n",
    "\n",
    "        for leg in shortest_backup[1]:\n",
    "            destination_stop = leg.iloc[1][1][0]\n",
    "            passed_stops_b.append(destination_stop)\n",
    "\n",
    "        b_tail = shortest_backup[1][-1]\n",
    "\n",
    "        if b_tail.iloc[1][1][0] == destination_node:\n",
    "            rel = backup_itinerary_reliability(shortest_next_itinerary[0],shortest_backup,start_time,time_budget)\n",
    "            if rel > MRB_reliability:\n",
    "                MRB_reliability = rel\n",
    "                MRB = shortest_backup\n",
    "                print(\"dest reached, MRB upd\",MRB_reliability)\n",
    "        else:\n",
    "            \n",
    "            next_legs_b = search_adjecent_legs(b_tail.iloc[1][1][0],b_tail.iloc[1][1][1],start_time,time_budget,filtered_legs)\n",
    "            #next_legs_b_filtered = filter_adjecent_legs(next_legs_b,b_tail.iloc[0]) \n",
    "            \n",
    "            next_legs_b = [leg for leg in next_legs_b if leg.iloc[1][1][0] not in passed_stops_b]\n",
    "\n",
    "            next_legs_b = [\n",
    "                leg for leg in next_legs_b \n",
    "                if can_visit_leg(leg, visited_stops_b, shortest_backup[1][-1].iloc[0],destination_node)\n",
    "            ]\n",
    "            \n",
    "            next_legs_b = [\n",
    "                leg for leg in next_legs_b \n",
    "                if can_visit_leg(leg, visited_stops_b, shortest_backup[1][-1].iloc[0],destination_node)\n",
    "            ]\n",
    "\n",
    "\n",
    "\n",
    "            for leg in next_legs_b:\n",
    "                backup_legs = shortest_backup[1][:]\n",
    "                backup_legs.append(leg)\n",
    "                backup = (transfer_leg,backup_legs)\n",
    "                b_reliability = backup_itinerary_reliability(shortest_next_itinerary[0],backup,start_time,time_budget)\n",
    "                backup_full = (transfer_leg,backup_legs,b_reliability)\n",
    "                b_duration = travel_time(backup_legs,start_time)\n",
    "                # maybe compare to MRIB rel\n",
    "                if b_reliability > MRB_reliability and timedelta(seconds=0) < b_duration <= time_budget:\n",
    "                    LIST_Backups.append(backup_full)\n",
    "                   \n",
    "                else:\n",
    "                    print(\"Backup Reliability 0 -2\")\n",
    "                update_visited_stops(visited_stops_b, b_tail)\n",
    "    # end of while len(LIST_Backups) > 0 loop       \n",
    "    print(\"MRB\", MRB)\n",
    "    return MRB,MRB_reliability\n",
    "                 \n",
    "            \n",
    "# end of while len(LIST_Backups) > 0 loop     "
   ]
  },
  {
   "cell_type": "code",
   "execution_count": 31,
   "metadata": {},
   "outputs": [],
   "source": [
    "def origin_node_filtering(origin_node: int, start_time: str, time_budget: timedelta, legs: list):\n",
    "    \"\"\"\n",
    "    Filters legs to ensure departure from the origin occurs within the first 20% of the time budget.\n",
    "\n",
    "    Parameters:\n",
    "    origin_node (int): The origin stop/node.\n",
    "    start_time (str): The starting time in \"%H:%M:%S\" format.\n",
    "    time_budget (timedelta): The total allowed time budget.\n",
    "    legs (list): The list of available legs to filter.\n",
    "\n",
    "    Returns:\n",
    "    list: Filtered legs meeting the departure condition.\n",
    "    \"\"\"\n",
    "    \n",
    "    # Calculate the 20% time limit from the time budget\n",
    "    max_departure_time = datetime.strptime(start_time, \"%H:%M:%S\") + time_budget * 0.25\n",
    "\n",
    "    # Filter legs based on departure time\n",
    "    filtered_legs = []\n",
    "    for leg in legs:\n",
    "        departure_time = datetime.strptime(leg.iloc[1][0][1], \"%H:%M:%S\")  # Assuming departure time is stored in this location\n",
    "        if departure_time <= max_departure_time:\n",
    "            filtered_legs.append(leg)\n",
    "\n",
    "    return filtered_legs\n"
   ]
  },
  {
   "cell_type": "code",
   "execution_count": 32,
   "metadata": {},
   "outputs": [],
   "source": [
    "def find_path(origin_node: int,destination_node: int, start_time : str, time_budget: timedelta):\n",
    "    \n",
    "    '''Initial setup'''\n",
    "    filtered_legs = filter_network(start_time,time_budget)\n",
    "    MRIB_reliability = 0.1\n",
    "    MRIB = None\n",
    "    LISTofTRIPS = []\n",
    "    visited_stops = {}\n",
    "    n = 0\n",
    "\n",
    "    visited_stops[origin_node] = (datetime.strptime(start_time, \"%H:%M:%S\"), \"\")\n",
    "\n",
    "\n",
    "    ''' Search initial adjacent legs'''\n",
    "    adjecent_legs = search_adjecent_legs(origin_node,start_time,start_time,time_budget,filtered_legs)\n",
    "    filtered_adj_legs = origin_node_filtering(origin_node,start_time,time_budget,adjecent_legs)\n",
    "    for leg in filtered_adj_legs:\n",
    "        itinerary  = [leg]\n",
    "        reliability = primary_itinerary_reliability(itinerary,start_time,time_budget)\n",
    "        duration = travel_time(itinerary,start_time)\n",
    "        expected_arrival_time = leg.iloc[1][1][1]\n",
    "        Backups = []\n",
    "        if reliability > 0 and timedelta(seconds=0) < duration <= time_budget:\n",
    "            LISTofTRIPS.append([itinerary,reliability,duration,expected_arrival_time,Backups])\n",
    "        update_visited_stops(visited_stops, leg)\n",
    "    #print(\"visited stops\", visited_stops)\n",
    "    #print(len(LISTofTRIPS))\n",
    "    \n",
    "    '''Main Loop'''\n",
    "    while LISTofTRIPS:\n",
    "        n +=1 #just count\n",
    "        print(\"New iteration\", n)\n",
    "\n",
    "        visited_stops_n = visited_stops.copy()\n",
    "        passed_stops_n = []\n",
    "\n",
    "        # Find the shortest itinerary(no, min function is not working)\n",
    "        min_index = find_min_index(LISTofTRIPS)\n",
    "        shortest_path = LISTofTRIPS.pop(min_index)\n",
    "        print(\"Shortest_path\",shortest_path)\n",
    "\n",
    "        tail = shortest_path[0][-1] # last leg of trip\n",
    "\n",
    "        # Check if destination is reached\n",
    "        if tail.iloc[1][1][0] == destination_node:\n",
    "            MRIB_reliability, MRIB = check_and_update_mrib(shortest_path, MRIB_reliability, MRIB, start_time, time_budget)\n",
    "            continue\n",
    "\n",
    "        for leg in shortest_path[0]:\n",
    "            update_visited_stops(visited_stops_n, leg)\n",
    "            destination_stop = leg.iloc[1][1][0]\n",
    "            passed_stops_n.append(destination_stop)\n",
    "        \n",
    "        # Explore connections from the current tail\n",
    "        #print(\"Search for the next connection\")\n",
    "        LIST_NEXT = []\n",
    "        #set of all legs adjacent to tail leg m\n",
    "        next_legs = search_adjecent_legs(tail.iloc[1][1][0],tail.iloc[1][1][1],start_time,time_budget,filtered_legs)\n",
    "        #that was some idea, but bad idea\n",
    "        #next_legs_filtered = filter_adjecent_legs(next_legs,tail.iloc[0])\n",
    "        #another idea of keeping track of visited nodes\n",
    "\n",
    "        # no passed stops!\n",
    "        next_legs = [leg for leg in next_legs if leg.iloc[1][1][0] not in passed_stops_n]\n",
    "\n",
    "\n",
    "        #print(\"before filter\",len(next_legs))\n",
    "        next_legs = [\n",
    "            leg for leg in next_legs \n",
    "            if can_visit_leg(leg, visited_stops_n, shortest_path[0][-1].iloc[0],destination_node)\n",
    "        ]\n",
    "        #print(\"1st filter\",len(next_legs))\n",
    "        next_legs = [\n",
    "                leg for leg in next_legs \n",
    "                if can_visit_leg(leg, visited_stops_n,shortest_path[0][-1].iloc[0],destination_node)\n",
    "            ]\n",
    "        #print(\"2nd filter\",len(next_legs))\n",
    "        \n",
    "        for leg in next_legs:\n",
    "            itinerary = shortest_path[0] + [leg] #combine previous legs and adjecent\n",
    "            Backups = shortest_path[4][:] #transfer the backups\n",
    "            reliability = itinerary_reliability(itinerary,Backups,start_time,time_budget)\n",
    "            duration = travel_time(itinerary,start_time)\n",
    "            expected_arrival_time = leg.iloc[1][1][1]\n",
    "\n",
    "            # maybe compare to MRIB rel\n",
    "            if reliability > 0 and timedelta(seconds=0) < duration <= time_budget: # check initially so we dont waste time later\n",
    "                LIST_NEXT.append([itinerary,reliability,duration,expected_arrival_time,Backups])\n",
    "            update_visited_stops(visited_stops_n, leg)\n",
    "            \n",
    "            #print(\"visited stops\", visited_stops)\n",
    "        #print(\"list Next\",LIST_NEXT)\n",
    "        nn= 0 \n",
    "\n",
    "\n",
    "        '''Sub Loop'''\n",
    "        MRB = None\n",
    "        MRB_departure_time = None  # To store the MRB's departure time\n",
    "        first_iteration = True \n",
    "\n",
    "        while LIST_NEXT:\n",
    "            nn+=1\n",
    "            print(\"New Subiteration\", nn)\n",
    "\n",
    "            min_index = find_min_index(LIST_NEXT)\n",
    "            shortest_next_itinerary = LIST_NEXT.pop(min_index)\n",
    "            print(\"shortest_next_itinerary\",shortest_next_itinerary)\n",
    "\n",
    "            if is_transfer(shortest_next_itinerary[0]) is False: \n",
    "                LISTofTRIPS.append(shortest_next_itinerary)\n",
    "                #print(\"direct_connecation, main list appended\")\n",
    "            else:\n",
    "                '''Backup loop'''\n",
    "                #print('Transfer, search for backup')\n",
    "\n",
    "                # the backup is stored and reused.\n",
    "                if first_iteration or (\n",
    "                    MRB_departure_time and \n",
    "                    MRB_departure_time <= shortest_next_itinerary[0][-1].iloc[1][0][1]\n",
    "                ):\n",
    "                    if len(LIST_NEXT) > 0 :\n",
    "                        MRB, MRB_reliability = backup_search(shortest_path,shortest_next_itinerary,LIST_NEXT,destination_node,start_time,time_budget,filtered_legs,visited_stops)\n",
    "                        if MRB:\n",
    "                            MRB_departure_time = MRB[1][0].iloc[1][0][1]\n",
    "                    #else:\n",
    "                        #print(\"no backups\")\n",
    "                    \n",
    "                if MRB :\n",
    "                    shortest_next_itinerary[4] = shortest_next_itinerary[4][:]\n",
    "                    shortest_next_itinerary[4].append(MRB)\n",
    "                    #print(\"Appended backup\", shortest_next_itinerary)\n",
    "                #else:\n",
    "                    #print(\"no reliable backup\")\n",
    "\n",
    "                LISTofTRIPS.append(shortest_next_itinerary)\n",
    "            \n",
    "\n",
    "            #print(\"no feasible connection, next new path\")\n",
    "\n",
    "             \n",
    "    return MRIB_reliability, MRIB"
   ]
  },
  {
   "cell_type": "code",
   "execution_count": 33,
   "metadata": {},
   "outputs": [],
   "source": [
    "pd.set_option('display.max_colwidth', None)"
   ]
  },
  {
   "cell_type": "code",
   "execution_count": null,
   "metadata": {},
   "outputs": [
    {
     "name": "stdout",
     "output_type": "stream",
     "text": [
      "1900-01-01 16:55:00\n"
     ]
    }
   ],
   "source": [
    "origin_node = \"Schattendorf Kirchengasse\" # for now the departure node is 1\n",
    "destination_node = \"Flughafen Wien Bahnhof\"\n",
    "start_time = \"14:30:00\"\n",
    "time_budget = timedelta(hours=2, minutes=25)\n",
    "\n",
    "MRIB_reliability, MRIB = find_path(origin_node,destination_node,start_time,time_budget)"
   ]
  },
  {
   "cell_type": "code",
   "execution_count": 37,
   "metadata": {},
   "outputs": [
    {
     "name": "stdout",
     "output_type": "stream",
     "text": [
      "0.375 [[trip_id                                                                            150.TA.20-SV5-L-j24-1.13.H\n",
      "leg        ((Schattendorf Kirchengasse, 14:43:00), (Loipersbach-Schattendorf Bhf., 14:48:00), 20-SV5-L-j24-1)\n",
      "Name: 51859, dtype: object, trip_id                                                                          42.TA.3-R93-A-j24-1.7.R\n",
      "leg        ((Loipersbach-Schattendorf Bhf., 14:54:00), (Marz-Rohrbach Bahnhof, 14:58:00), 3-R93-A-j24-1)\n",
      "Name: 171381, dtype: object, trip_id                                                                42.TA.3-R93-A-j24-1.7.R\n",
      "leg        ((Marz-Rohrbach Bahnhof, 14:59:00), (Mattersburg Bahnhof, 15:01:00), 3-R93-A-j24-1)\n",
      "Name: 171382, dtype: object, trip_id                                                                   42.TA.3-R93-A-j24-1.7.R\n",
      "leg        ((Mattersburg Bahnhof, 15:02:00), (Mattersburg Nord Bahnhof, 15:03:00), 3-R93-A-j24-1)\n",
      "Name: 171383, dtype: object, trip_id                                                                     42.TA.3-R93-A-j24-1.7.R\n",
      "leg        ((Mattersburg Nord Bahnhof, 15:04:00), (Wiesen-Sigleß Bahnhof, 15:07:00), 3-R93-A-j24-1)\n",
      "Name: 171384, dtype: object, trip_id                                                                   42.TA.3-R93-A-j24-1.7.R\n",
      "leg        ((Wiesen-Sigleß Bahnhof, 15:07:00), (Bad Sauerbrunn Bahnhof, 15:11:00), 3-R93-A-j24-1)\n",
      "Name: 171385, dtype: object, trip_id                                                              42.TA.3-R93-A-j24-1.7.R\n",
      "leg        ((Bad Sauerbrunn Bahnhof, 15:13:00), (Neudörfl Bahnhof, 15:16:00), 3-R93-A-j24-1)\n",
      "Name: 171386, dtype: object, trip_id                                                           42.TA.3-R93-A-j24-1.7.R\n",
      "leg        ((Neudörfl Bahnhof, 15:17:00), (Katzelsdorf Bahnhof, 15:20:00), 3-R93-A-j24-1)\n",
      "Name: 171387, dtype: object, trip_id                                                                       42.TA.3-R93-A-j24-1.7.R\n",
      "leg        ((Katzelsdorf Bahnhof, 15:20:00), (Wiener Neustadt Hauptbahnhof, 15:25:00), 3-R93-A-j24-1)\n",
      "Name: 171388, dtype: object, trip_id                                                                 30.TA.10-A12-j24-1.7.R\n",
      "leg        ((Wiener Neustadt Hauptbahnhof, 15:27:00), (Wien Meidling, 15:55:00), 10-A12-j24-1)\n",
      "Name: 129468, dtype: object, trip_id                                                      30.TA.10-A12-j24-1.7.R\n",
      "leg        ((Wien Meidling, 15:57:00), (Wien Hauptbahnhof, 16:02:00), 10-A12-j24-1)\n",
      "Name: 129469, dtype: object, trip_id                                                             124.TA.10-A3-j24-1.29.H\n",
      "leg        ((Wien Hauptbahnhof, 16:09:00), (Flughafen Wien Bahnhof, 16:24:00), 10-A3-j24-1)\n",
      "Name: 27996, dtype: object], 0.125, datetime.timedelta(seconds=6840), '16:24:00', [(trip_id                                                      30.TA.10-A12-j24-1.7.R\n",
      "leg        ((Wien Meidling, 15:57:00), (Wien Hauptbahnhof, 16:02:00), 10-A12-j24-1)\n",
      "Name: 129469, dtype: object, [trip_id                                                              72.TA.10-A12-j24-1.18.R\n",
      "leg        ((Wien Hauptbahnhof, 16:12:00), (Flughafen Wien Bahnhof, 16:27:00), 10-A12-j24-1)\n",
      "Name: 229934, dtype: object], 0.25)]]\n"
     ]
    }
   ],
   "source": [
    "print(MRIB_reliability, MRIB)"
   ]
  },
  {
   "cell_type": "code",
   "execution_count": 38,
   "metadata": {},
   "outputs": [
    {
     "data": {
      "text/plain": [
       "[(trip_id                                                      30.TA.10-A12-j24-1.7.R\n",
       "  leg        ((Wien Meidling, 15:57:00), (Wien Hauptbahnhof, 16:02:00), 10-A12-j24-1)\n",
       "  Name: 129469, dtype: object,\n",
       "  [trip_id                                                              72.TA.10-A12-j24-1.18.R\n",
       "   leg        ((Wien Hauptbahnhof, 16:12:00), (Flughafen Wien Bahnhof, 16:27:00), 10-A12-j24-1)\n",
       "   Name: 229934, dtype: object],\n",
       "  0.25)]"
      ]
     },
     "execution_count": 38,
     "metadata": {},
     "output_type": "execute_result"
    }
   ],
   "source": [
    "MRIB[4]"
   ]
  },
  {
   "cell_type": "code",
   "execution_count": null,
   "metadata": {},
   "outputs": [],
   "source": []
  }
 ],
 "metadata": {
  "kernelspec": {
   "display_name": "Python 3",
   "language": "python",
   "name": "python3"
  },
  "language_info": {
   "codemirror_mode": {
    "name": "ipython",
    "version": 3
   },
   "file_extension": ".py",
   "mimetype": "text/x-python",
   "name": "python",
   "nbconvert_exporter": "python",
   "pygments_lexer": "ipython3",
   "version": "3.12.0"
  }
 },
 "nbformat": 4,
 "nbformat_minor": 2
}
